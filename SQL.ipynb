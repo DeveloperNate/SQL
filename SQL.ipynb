{
 "cells": [
  {
   "cell_type": "markdown",
   "metadata": {},
   "source": [
    "<h1> SQL Tasks </h1>\n",
    "<h3> PIVOT </h3>\n",
    "<img src = "Pivot.JPG\">"
   ]
  },
  {
   "cell_type": "code",
   "execution_count": null,
   "metadata": {},
   "outputs": [],
   "source": [
    "SELECT Doctor, Professor, Singer, Actor  FROM \n",
    "(SELECT name, occupation, ROW_NUMBER() OVER (PARTITION BY occupation ORDER BY name)as rn FROM OCCUPATIONS )\n",
    "PIVOT\n",
    "( MAX(name) FOR occupation  IN ('Doctor' as Doctor ,'Professor' as Professor ,'Singer' as Singer ,'Actor' as Actor)) \n",
    "ORDER BY rn ;"
   ]
  },
  {
   "cell_type": "markdown",
   "metadata": {},
   "source": [
    "This SQL Select Query is divided into three sections. \n",
    "<ul> \n",
    "    <li> The first SELECT Query selects the columns from the new pivot table that was created</li>\n",
    "    <li> The second SELECT Query creates a new Table from the OCCUAPTION Table. This table contains the name and occupation as well as the row number. The rows will be counted based on the occupation  field.</li>\n",
    "    <li> The last section pivots the table. This has aggregated the name field despite not being needed. Additionally, it has created the columns that have been called in the first SELECT Query.</li>\n",
    "    </ul>\n"
   ]
  },
  {
   "cell_type": "markdown",
   "metadata": {},
   "source": [
    "<h3> CASE </h3>\n",
    "<img src=\"Case.JPG\">"
   ]
  },
  {
   "cell_type": "code",
   "execution_count": null,
   "metadata": {},
   "outputs": [],
   "source": [
    "SELECT N,\n",
    "CASE \n",
    "    WHEN P IS NULL THEN 'Root'\n",
    "    WHEN N IN (SELECT P FROM BST) THEN 'Inner'\n",
    "    ELSE 'Leaf'\n",
    "END\n",
    "FROM BST\n",
    "ORDER BY N ASC;"
   ]
  },
  {
   "cell_type": "markdown",
   "metadata": {},
   "source": [
    "Using the CASE function we can add a value into the result depending on a value that was retrieved from the SELECT Query. In the above answer, the CASE statement looks at the value in P and if that value is NULL, Root will be outputted. If the value of N is in the P table, it outputs Inner. Otherwise, it will output Leaf."
   ]
  },
  {
   "cell_type": "markdown",
   "metadata": {},
   "source": [
    "<h3> Using POWER/ SQRT for Math Equations</h3>"
   ]
  },
  {
   "cell_type": "markdown",
   "metadata": {},
   "source": [
    "<img src=\"MATHS.JPG\">"
   ]
  },
  {
   "cell_type": "code",
   "execution_count": null,
   "metadata": {},
   "outputs": [],
   "source": [
    "SELECT ROUND(SQRT(POWER((a - b),2) + POWER((c - d),2)),4) FROM \n",
    "(SELECT MIN(LAT_N) AS a,MAX(LAT_N) AS b ,MIN(LONG_W) AS c ,MAX(LONG_W) AS d FROM STATION);"
   ]
  },
  {
   "cell_type": "markdown",
   "metadata": {},
   "source": [
    "The first SELECT Query uses the aggregated values from the results of the second query to calculate the Euclidean Distance. "
   ]
  },
  {
   "cell_type": "markdown",
   "metadata": {},
   "source": [
    "<h3> Join </h3>\n",
    "<img src = \"join.JPG\">"
   ]
  },
  {
   "cell_type": "code",
   "execution_count": null,
   "metadata": {},
   "outputs": [],
   "source": [
    "SELECT \n",
    "CASE \n",
    "    WHEN grade < 8 THEN 'NULL'\n",
    "    ELSE name\n",
    "END AS name\n",
    ",GRADES.grade,STUDENTS.marks\n",
    "FROM STUDENTS\n",
    "JOIN GRADES ON STUDENTS.marks BETWEEN GRADES.min_mark AND GRADES.max_mark\n",
    "ORDER BY GRADES.grade DESC , name ASC , STUDENTS.marks ASC; "
   ]
  },
  {
   "cell_type": "markdown",
   "metadata": {},
   "source": [
    "This Query is divided up into two parts\n",
    "<ul>\n",
    "    <li> Case - This checks if the grade is lower then 8 and return NULL or the NAME of the student depending on the answer</li>\n",
    "    <li> Join - This does a join action depending on whether the student's mark on the grade boundaries. The correct grade value is then added onto the table.  "
   ]
  }
 ],
 "metadata": {
  "kernelspec": {
   "display_name": "Python 3",
   "language": "python",
   "name": "python3"
  },
  "language_info": {
   "codemirror_mode": {
    "name": "ipython",
    "version": 3
   },
   "file_extension": ".py",
   "mimetype": "text/x-python",
   "name": "python",
   "nbconvert_exporter": "python",
   "pygments_lexer": "ipython3",
   "version": "3.7.1"
  }
 },
 "nbformat": 4,
 "nbformat_minor": 2
}
